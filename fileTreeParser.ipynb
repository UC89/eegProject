{
 "cells": [
  {
   "cell_type": "code",
   "execution_count": 1,
   "metadata": {},
   "outputs": [],
   "source": [
    "from pymongo import MongoClient\n",
    "from pathlib import Path\n",
    "import os\n",
    "client = MongoClient('mongodb://localhost:27017')\n"
   ]
  },
  {
   "cell_type": "code",
   "execution_count": 12,
   "metadata": {
    "collapsed": true
   },
   "outputs": [],
   "source": [
    "def fileName(filePath):\n",
    "    return (os.path.splitext(os.path.split(maxFileName)[1]))[0]\n",
    "\n",
    "def fileExt(filePath):\n",
    "    return (os.path.splitext(os.path.split(maxFileName)[1]))[1]"
   ]
  },
  {
   "cell_type": "code",
   "execution_count": 23,
   "metadata": {},
   "outputs": [
    {
     "name": "stdout",
     "output_type": "stream",
     "text": [
      "['03_tcp_ar_a', '02_tcp_le', '.DS_Store', '01_tcp_ar']\n",
      "False\n",
      "False\n",
      "/03_tcp_ar_a\n",
      "v1.2.0/eval/01_tcp_ar/00001278/s002_2003_11_17/00001278_s002_t001.edf  :  67899648\n",
      "('v1.2.0/eval/01_tcp_ar/00001278/s002_2003_11_17/00001278_s002_t001', '.edf')\n",
      "('v1.2.0/eval/01_tcp_ar/00001278/s002_2003_11_17', '00001278_s002_t001.edf')\n",
      "('00001278_s002_t001', '.edf')\n",
      "00001278_s002_t001\n",
      ".edf\n"
     ]
    }
   ],
   "source": [
    "p1 = os.listdir(\"v1.2.0/eval\")\n",
    "print(p1)\n",
    "print(os.path.isdir(p1[0]))\n",
    "print(os.path.isfile(p1[1]))\n",
    "pathString = (\"/\"+str(p1[0]))\n",
    "print(pathString)\n",
    "patientDict = {}\n",
    "fileNames = []\n",
    "maxFileSize = 0 \n",
    "maxFileName = \"\"\n",
    "for root,dirs,files in os.walk(\"v1.2.0\"):\n",
    "    #print (\"root: \",root)\n",
    "    #print(\"\\tdirs: \",dirs)\n",
    "    #print(\"\\t\\t\",str(files))\n",
    "        \n",
    "    if len(files)>0:\n",
    "        for file in files:\n",
    "            fileNames.append(str(root)+\"/\"+str(file))\n",
    "            if os.path.getsize((str(root)+\"/\"+file)) > maxFileSize:\n",
    "                maxFileSize = os.path.getsize((str(root)+\"/\"+file))\n",
    "                maxFileName = (str(root)+\"/\"+file)\n",
    "            else:\n",
    "                continue\n",
    "            \n",
    "            \n",
    "        #print (\"\\t\\tFile: \"+files[3])\n",
    "        \n",
    "print (maxFileName,\" : \",maxFileSize)\n",
    "print (os.path.splitext(maxFileName))\n",
    "print (os.path.split(maxFileName))\n",
    "print (os.path.splitext(os.path.split(maxFileName)[1]))\n",
    "print (fileName(maxFileName))\n",
    "print (fileExt(maxFileName))"
   ]
  },
  {
   "cell_type": "code",
   "execution_count": 24,
   "metadata": {},
   "outputs": [
    {
     "name": "stdout",
     "output_type": "stream",
     "text": [
      "['v1.2.0/.DS_Store', 'v1.2.0/eval/.DS_Store', 'v1.2.0/eval/03_tcp_ar_a/00005943/s002_2009_06_28/00005943_s002.txt', 'v1.2.0/eval/03_tcp_ar_a/00005943/s002_2009_06_28/00005943_s002_t002.lbl_bi', 'v1.2.0/eval/03_tcp_ar_a/00005943/s002_2009_06_28/00005943_s002_t001.tse_bi', 'v1.2.0/eval/03_tcp_ar_a/00005943/s002_2009_06_28/00005943_s002_t000.lbl_bi', 'v1.2.0/eval/03_tcp_ar_a/00005943/s002_2009_06_28/00005943_s002_t003.tse_bi', 'v1.2.0/eval/03_tcp_ar_a/00005943/s002_2009_06_28/00005943_s002_t002.lbl', 'v1.2.0/eval/03_tcp_ar_a/00005943/s002_2009_06_28/00005943_s002_t002.tse', 'v1.2.0/eval/03_tcp_ar_a/00005943/s002_2009_06_28/00005943_s002_t003.tse', 'v1.2.0/eval/03_tcp_ar_a/00005943/s002_2009_06_28/00005943_s002_t003.lbl', 'v1.2.0/eval/03_tcp_ar_a/00005943/s002_2009_06_28/00005943_s002_t001.lbl', 'v1.2.0/eval/03_tcp_ar_a/00005943/s002_2009_06_28/00005943_s002_t001.tse', 'v1.2.0/eval/03_tcp_ar_a/00005943/s002_2009_06_28/00005943_s002_t000.tse', 'v1.2.0/eval/03_tcp_ar_a/00005943/s002_2009_06_28/00005943_s002_t000.lbl', 'v1.2.0/eval/03_tcp_ar_a/00005943/s002_2009_06_28/00005943_s002_t000.tse_bi', 'v1.2.0/eval/03_tcp_ar_a/00005943/s002_2009_06_28/00005943_s002_t003.lbl_bi', 'v1.2.0/eval/03_tcp_ar_a/00005943/s002_2009_06_28/00005943_s002_t001.edf', 'v1.2.0/eval/03_tcp_ar_a/00005943/s002_2009_06_28/00005943_s002_t000.edf', 'v1.2.0/eval/03_tcp_ar_a/00005943/s002_2009_06_28/00005943_s002_t002.edf', 'v1.2.0/eval/03_tcp_ar_a/00005943/s002_2009_06_28/00005943_s002_t002.tse_bi', 'v1.2.0/eval/03_tcp_ar_a/00005943/s002_2009_06_28/00005943_s002_t003.edf', 'v1.2.0/eval/03_tcp_ar_a/00005943/s002_2009_06_28/00005943_s002_t001.lbl_bi', 'v1.2.0/eval/03_tcp_ar_a/00005943/s004_2009_06_29/00005943_s004_t001.tse_bi', 'v1.2.0/eval/03_tcp_ar_a/00005943/s004_2009_06_29/00005943_s004_t002.lbl_bi', 'v1.2.0/eval/03_tcp_ar_a/00005943/s004_2009_06_29/00005943_s004_t003.tse_bi', 'v1.2.0/eval/03_tcp_ar_a/00005943/s004_2009_06_29/00005943_s004.txt', 'v1.2.0/eval/03_tcp_ar_a/00005943/s004_2009_06_29/00005943_s004_t000.lbl_bi', 'v1.2.0/eval/03_tcp_ar_a/00005943/s004_2009_06_29/00005943_s004_t001.edf', 'v1.2.0/eval/03_tcp_ar_a/00005943/s004_2009_06_29/00005943_s004_t003.lbl_bi']\n"
     ]
    }
   ],
   "source": [
    "print(fileNames[0:30])"
   ]
  },
  {
   "cell_type": "code",
   "execution_count": 16,
   "metadata": {},
   "outputs": [
    {
     "ename": "NameError",
     "evalue": "name 'directory_in_str' is not defined",
     "output_type": "error",
     "traceback": [
      "\u001b[0;31m---------------------------------------------------------------------------\u001b[0m",
      "\u001b[0;31mNameError\u001b[0m                                 Traceback (most recent call last)",
      "\u001b[0;32m<ipython-input-16-da2f2cdc6bf6>\u001b[0m in \u001b[0;36m<module>\u001b[0;34m()\u001b[0m\n\u001b[0;32m----> 1\u001b[0;31m \u001b[0mdirectory\u001b[0m \u001b[0;34m=\u001b[0m \u001b[0mos\u001b[0m\u001b[0;34m.\u001b[0m\u001b[0mfsencode\u001b[0m\u001b[0;34m(\u001b[0m\u001b[0mdirectory_in_str\u001b[0m\u001b[0;34m)\u001b[0m\u001b[0;34m\u001b[0m\u001b[0m\n\u001b[0m\u001b[1;32m      2\u001b[0m \u001b[0;34m\u001b[0m\u001b[0m\n\u001b[1;32m      3\u001b[0m \u001b[0;32mfor\u001b[0m \u001b[0mfile\u001b[0m \u001b[0;32min\u001b[0m \u001b[0mos\u001b[0m\u001b[0;34m.\u001b[0m\u001b[0mlistdir\u001b[0m\u001b[0;34m(\u001b[0m\u001b[0mdirectory\u001b[0m\u001b[0;34m)\u001b[0m\u001b[0;34m:\u001b[0m\u001b[0;34m\u001b[0m\u001b[0m\n\u001b[1;32m      4\u001b[0m     \u001b[0mfilename\u001b[0m \u001b[0;34m=\u001b[0m \u001b[0mos\u001b[0m\u001b[0;34m.\u001b[0m\u001b[0mfsdecode\u001b[0m\u001b[0;34m(\u001b[0m\u001b[0mfile\u001b[0m\u001b[0;34m)\u001b[0m\u001b[0;34m\u001b[0m\u001b[0m\n\u001b[1;32m      5\u001b[0m     \u001b[0;32mif\u001b[0m \u001b[0mfilename\u001b[0m\u001b[0;34m.\u001b[0m\u001b[0mendswith\u001b[0m\u001b[0;34m(\u001b[0m\u001b[0;34m\".asm\"\u001b[0m\u001b[0;34m)\u001b[0m \u001b[0;32mor\u001b[0m \u001b[0mfilename\u001b[0m\u001b[0;34m.\u001b[0m\u001b[0mendswith\u001b[0m\u001b[0;34m(\u001b[0m\u001b[0;34m\".py\"\u001b[0m\u001b[0;34m)\u001b[0m\u001b[0;34m:\u001b[0m\u001b[0;34m\u001b[0m\u001b[0m\n",
      "\u001b[0;31mNameError\u001b[0m: name 'directory_in_str' is not defined"
     ]
    }
   ],
   "source": [
    "directory = os.fsencode(directory_in_str)\n",
    "\n",
    "for file in os.listdir(directory):\n",
    "    filename = os.fsdecode(file)\n",
    "    if filename.endswith(\".asm\") or filename.endswith(\".py\"): \n",
    "        # print(os.path.join(directory, filename))\n",
    "        continue\n",
    "    else:\n",
    "        continue"
   ]
  },
  {
   "cell_type": "code",
   "execution_count": null,
   "metadata": {
    "collapsed": true
   },
   "outputs": [],
   "source": []
  },
  {
   "cell_type": "code",
   "execution_count": null,
   "metadata": {
    "collapsed": true
   },
   "outputs": [],
   "source": []
  }
 ],
 "metadata": {
  "kernelspec": {
   "display_name": "Python 3",
   "language": "python",
   "name": "python3"
  },
  "language_info": {
   "codemirror_mode": {
    "name": "ipython",
    "version": 3
   },
   "file_extension": ".py",
   "mimetype": "text/x-python",
   "name": "python",
   "nbconvert_exporter": "python",
   "pygments_lexer": "ipython3",
   "version": "3.6.3"
  }
 },
 "nbformat": 4,
 "nbformat_minor": 2
}
