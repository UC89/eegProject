{
 "cells": [
  {
   "cell_type": "code",
   "execution_count": 67,
   "metadata": {
    "collapsed": true
   },
   "outputs": [],
   "source": [
    "from pymongo import MongoClient\n",
    "from pathlib import Path\n",
    "import os\n",
    "from pprint import pprint\n"
   ]
  },
  {
   "cell_type": "code",
   "execution_count": 68,
   "metadata": {},
   "outputs": [],
   "source": [
    "client = MongoClient('mongodb://localhost:27017')\n",
    "testDb = client.testDb"
   ]
  },
  {
   "cell_type": "code",
   "execution_count": 83,
   "metadata": {
    "collapsed": true
   },
   "outputs": [],
   "source": [
    "patients = testDb.patients\n",
    "sessions = testDb.sessions\n",
    "reports = testDb.reports"
   ]
  },
  {
   "cell_type": "code",
   "execution_count": 70,
   "metadata": {
    "collapsed": true
   },
   "outputs": [],
   "source": [
    "def fileName(filePath):\n",
    "    return (os.path.splitext(os.path.split(filePath)[1]))[0]\n",
    "\n",
    "def fileExt(filePath):\n",
    "    return (os.path.splitext(os.path.split(filePath)[1]))[1]"
   ]
  },
  {
   "cell_type": "code",
   "execution_count": 77,
   "metadata": {},
   "outputs": [
    {
     "name": "stdout",
     "output_type": "stream",
     "text": [
      "['03_tcp_ar_a', '02_tcp_le', '.DS_Store', '01_tcp_ar']\n",
      "False\n",
      "False\n",
      "/03_tcp_ar_a\n",
      "v1.2.0/eval/01_tcp_ar/00001278/s002_2003_11_17/00001278_s002_t001.edf  :  67899648\n",
      "('v1.2.0/eval/01_tcp_ar/00001278/s002_2003_11_17/00001278_s002_t001', '.edf')\n",
      "('v1.2.0/eval/01_tcp_ar/00001278/s002_2003_11_17', '00001278_s002_t001.edf')\n",
      "('00001278_s002_t001', '.edf')\n",
      "00001278_s002_t001\n",
      ".edf\n"
     ]
    }
   ],
   "source": [
    "p1 = os.listdir(\"v1.2.0/eval\")\n",
    "print(p1)\n",
    "print(os.path.isdir(p1[0]))\n",
    "print(os.path.isfile(p1[1]))\n",
    "pathString = (\"/\"+str(p1[0]))\n",
    "print(pathString)\n",
    "patientDict = {}\n",
    "fileNames = []\n",
    "maxFileSize = 0 \n",
    "maxFileName = \"\"\n",
    "for root,dirs,files in os.walk(\"v1.2.0\"):\n",
    "    #print (\"root: \",root)\n",
    "    #print(\"\\tdirs: \",dirs)\n",
    "    #print(\"\\t\\t\",str(files))\n",
    "        \n",
    "    if len(files)>0:\n",
    "        for file in files:\n",
    "            fileNames.append(str(root)+\"/\"+str(file))\n",
    "            if os.path.getsize((str(root)+\"/\"+file)) > maxFileSize:\n",
    "                maxFileSize = os.path.getsize((str(root)+\"/\"+file))\n",
    "                maxFileName = (str(root)+\"/\"+file)\n",
    "            else:\n",
    "                continue\n",
    "            \n",
    "            \n",
    "        #print (\"\\t\\tFile: \"+files[3])\n",
    "        \n",
    "print (maxFileName,\" : \",maxFileSize)\n",
    "print (os.path.splitext(maxFileName))\n",
    "print (os.path.split(maxFileName))\n",
    "print (os.path.splitext(os.path.split(maxFileName)[1]))\n",
    "print (fileName(maxFileName))\n",
    "print (fileExt(maxFileName))"
   ]
  },
  {
   "cell_type": "code",
   "execution_count": 107,
   "metadata": {},
   "outputs": [
    {
     "name": "stdout",
     "output_type": "stream",
     "text": [
      "v1.2.0/eval/03_tcp_ar_a/00005943/s004_2009_06_29/00005943_s004_t000.tse_bi\n",
      "['v1.2.0', 'eval', '03_tcp_ar_a', '00005943', 's004_2009_06_29', '00005943_s004_t000.tse_bi']\n",
      "File Ext: .tse_bi\n",
      "File Name:  00005943_s004_t000 \n",
      "\n",
      "v1.2.0/eval/03_tcp_ar_a/00005943/s004_2009_06_29/00005943_s004_t000.edf\n",
      "['v1.2.0', 'eval', '03_tcp_ar_a', '00005943', 's004_2009_06_29', '00005943_s004_t000.edf']\n",
      "File Ext: .edf\n",
      "File Name:  00005943_s004_t000 \n",
      "\n",
      "v1.2.0/eval/03_tcp_ar_a/00005943/s004_2009_06_29/00005943_s004_t002.edf\n",
      "['v1.2.0', 'eval', '03_tcp_ar_a', '00005943', 's004_2009_06_29', '00005943_s004_t002.edf']\n",
      "File Ext: .edf\n",
      "File Name:  00005943_s004_t002 \n",
      "\n",
      "v1.2.0/eval/03_tcp_ar_a/00005943/s004_2009_06_29/00005943_s004_t003.edf\n",
      "['v1.2.0', 'eval', '03_tcp_ar_a', '00005943', 's004_2009_06_29', '00005943_s004_t003.edf']\n",
      "File Ext: .edf\n",
      "File Name:  00005943_s004_t003 \n",
      "\n",
      "v1.2.0/eval/03_tcp_ar_a/00005943/s004_2009_06_29/00005943_s004_t001.lbl_bi\n",
      "['v1.2.0', 'eval', '03_tcp_ar_a', '00005943', 's004_2009_06_29', '00005943_s004_t001.lbl_bi']\n",
      "File Ext: .lbl_bi\n",
      "File Name:  00005943_s004_t001 \n",
      "\n",
      "v1.2.0/eval/03_tcp_ar_a/00005943/s004_2009_06_29/00005943_s004_t002.tse_bi\n",
      "['v1.2.0', 'eval', '03_tcp_ar_a', '00005943', 's004_2009_06_29', '00005943_s004_t002.tse_bi']\n",
      "File Ext: .tse_bi\n",
      "File Name:  00005943_s004_t002 \n",
      "\n",
      "v1.2.0/eval/03_tcp_ar_a/00005943/s004_2009_06_29/00005943_s004_t002.tse\n",
      "['v1.2.0', 'eval', '03_tcp_ar_a', '00005943', 's004_2009_06_29', '00005943_s004_t002.tse']\n",
      "File Ext: .tse\n",
      "File Name:  00005943_s004_t002 \n",
      "\n",
      "v1.2.0/eval/03_tcp_ar_a/00005943/s004_2009_06_29/00005943_s004_t002.lbl\n",
      "['v1.2.0', 'eval', '03_tcp_ar_a', '00005943', 's004_2009_06_29', '00005943_s004_t002.lbl']\n",
      "File Ext: .lbl\n",
      "File Name:  00005943_s004_t002 \n",
      "\n",
      "v1.2.0/eval/03_tcp_ar_a/00005943/s004_2009_06_29/00005943_s004_t003.lbl\n",
      "['v1.2.0', 'eval', '03_tcp_ar_a', '00005943', 's004_2009_06_29', '00005943_s004_t003.lbl']\n",
      "File Ext: .lbl\n",
      "File Name:  00005943_s004_t003 \n",
      "\n",
      "v1.2.0/eval/03_tcp_ar_a/00005943/s004_2009_06_29/00005943_s004_t003.tse\n",
      "['v1.2.0', 'eval', '03_tcp_ar_a', '00005943', 's004_2009_06_29', '00005943_s004_t003.tse']\n",
      "File Ext: .tse\n",
      "File Name:  00005943_s004_t003 \n",
      "\n",
      "v1.2.0/eval/03_tcp_ar_a/00005943/s004_2009_06_29/00005943_s004_t001.tse\n",
      "['v1.2.0', 'eval', '03_tcp_ar_a', '00005943', 's004_2009_06_29', '00005943_s004_t001.tse']\n",
      "File Ext: .tse\n",
      "File Name:  00005943_s004_t001 \n",
      "\n",
      "v1.2.0/eval/03_tcp_ar_a/00005943/s004_2009_06_29/00005943_s004_t001.lbl\n",
      "['v1.2.0', 'eval', '03_tcp_ar_a', '00005943', 's004_2009_06_29', '00005943_s004_t001.lbl']\n",
      "File Ext: .lbl\n",
      "File Name:  00005943_s004_t001 \n",
      "\n",
      "v1.2.0/eval/03_tcp_ar_a/00005943/s004_2009_06_29/00005943_s004_t000.lbl\n",
      "['v1.2.0', 'eval', '03_tcp_ar_a', '00005943', 's004_2009_06_29', '00005943_s004_t000.lbl']\n",
      "File Ext: .lbl\n",
      "File Name:  00005943_s004_t000 \n",
      "\n",
      "v1.2.0/eval/03_tcp_ar_a/00005943/s004_2009_06_29/00005943_s004_t000.tse\n",
      "['v1.2.0', 'eval', '03_tcp_ar_a', '00005943', 's004_2009_06_29', '00005943_s004_t000.tse']\n",
      "File Ext: .tse\n",
      "File Name:  00005943_s004_t000 \n",
      "\n",
      "v1.2.0/eval/03_tcp_ar_a/00004087/s003_2007_07_24/00004087_s003_t003.lbl_bi\n",
      "['v1.2.0', 'eval', '03_tcp_ar_a', '00004087', 's003_2007_07_24', '00004087_s003_t003.lbl_bi']\n",
      "File Ext: .lbl_bi\n",
      "File Name:  00004087_s003_t003 \n",
      "\n",
      "v1.2.0/eval/03_tcp_ar_a/00004087/s003_2007_07_24/00004087_s003_t000.tse_bi\n",
      "['v1.2.0', 'eval', '03_tcp_ar_a', '00004087', 's003_2007_07_24', '00004087_s003_t000.tse_bi']\n",
      "File Ext: .tse_bi\n",
      "File Name:  00004087_s003_t000 \n",
      "\n",
      "v1.2.0/eval/03_tcp_ar_a/00004087/s003_2007_07_24/00004087_s003_t001.lbl_bi\n",
      "['v1.2.0', 'eval', '03_tcp_ar_a', '00004087', 's003_2007_07_24', '00004087_s003_t001.lbl_bi']\n",
      "File Ext: .lbl_bi\n",
      "File Name:  00004087_s003_t001 \n",
      "\n",
      "v1.2.0/eval/03_tcp_ar_a/00004087/s003_2007_07_24/00004087_s003_t002.tse_bi\n",
      "['v1.2.0', 'eval', '03_tcp_ar_a', '00004087', 's003_2007_07_24', '00004087_s003_t002.tse_bi']\n",
      "File Ext: .tse_bi\n",
      "File Name:  00004087_s003_t002 \n",
      "\n",
      "v1.2.0/eval/03_tcp_ar_a/00004087/s003_2007_07_24/00004087_s003_t004.tse_bi\n",
      "['v1.2.0', 'eval', '03_tcp_ar_a', '00004087', 's003_2007_07_24', '00004087_s003_t004.tse_bi']\n",
      "File Ext: .tse_bi\n",
      "File Name:  00004087_s003_t004 \n",
      "\n",
      "v1.2.0/eval/03_tcp_ar_a/00004087/s003_2007_07_24/00004087_s003_t004.edf\n",
      "['v1.2.0', 'eval', '03_tcp_ar_a', '00004087', 's003_2007_07_24', '00004087_s003_t004.edf']\n",
      "File Ext: .edf\n",
      "File Name:  00004087_s003_t004 \n",
      "\n",
      "['00005943', '00004087', '00005479', '00002297', '00006546', '00003281', '00001981', '00003306', '00002289', '00001027', '00005213', '00000795', '00001640', '00001278', '00005625', '00003635', '00004671', '00001984', '00000258', '00001770', '00005031', '00004594', '00004151', '00000629', '00000675', '00010639', '00006900', '00008453', '00008174', '00008544', '00009866', '00010547', '00010106', '00008550', '00009842', '00007633', '00008889', '00008479', '00009570', '00008460', '00008606', '00009578', '00010062', '00010861', '00009839', '00009697', '00008512', '00006059', '00010022', '00006986']\n",
      "50\n"
     ]
    }
   ],
   "source": [
    "#print(fileNames[0:30])\n",
    "testDb.patients.delete_many({})\n",
    "testDb.sessions.delete_many({})\n",
    "testDb.reports.delete_many({})\n",
    "\n",
    "for files in fileNames[30:50]:\n",
    "    print(files)\n",
    "    print (files.split(\"/\"))\n",
    "    print (\"File Ext: \"+fileExt(files))\n",
    "    print (\"File Name: \",fileName(files),\"\\n\")\n",
    "\n",
    "patientList = []\n",
    "patientSessions = []\n",
    "sessionList = []\n",
    "for files in fileNames:\n",
    "    splitFile = files.split(\"/\")\n",
    "    #print(splitFile)\n",
    "    if len(splitFile)<5:\n",
    "        pass\n",
    "    else:\n",
    "        patientId = splitFile[3]\n",
    "        sessionId = splitFile[4]\n",
    "        if patientId in patientList:\n",
    "            continue\n",
    "        else:\n",
    "            patients.insert_one({'patientId':patientId})\n",
    "            patientList.append(patientId)\n",
    "        if sessionId in sessionList:\n",
    "            continue\n",
    "        else:\n",
    "            sessionList.append(sessionId)\n",
    "            if patientId in patientList:\n",
    "                sessions.update_one({\"patientId\":patientId},{'$push':{\"sessionsId\":sessionId}})\n",
    "            else:\n",
    "                sessions.insert_one({{'patientId':patientId},{'sessionId':[sessionId]}})\n",
    "print (patientList)\n",
    "print (len(patientList))"
   ]
  },
  {
   "cell_type": "code",
   "execution_count": 106,
   "metadata": {},
   "outputs": [],
   "source": [
    "patientDbPrint = sessions.find({})\n",
    "for patient in patientDbPrint:\n",
    "    print(patient)\n"
   ]
  },
  {
   "cell_type": "code",
   "execution_count": null,
   "metadata": {
    "collapsed": true
   },
   "outputs": [],
   "source": []
  },
  {
   "cell_type": "code",
   "execution_count": null,
   "metadata": {
    "collapsed": true
   },
   "outputs": [],
   "source": []
  }
 ],
 "metadata": {
  "kernelspec": {
   "display_name": "Python 3",
   "language": "python",
   "name": "python3"
  },
  "language_info": {
   "codemirror_mode": {
    "name": "ipython",
    "version": 3
   },
   "file_extension": ".py",
   "mimetype": "text/x-python",
   "name": "python",
   "nbconvert_exporter": "python",
   "pygments_lexer": "ipython3",
   "version": "3.6.3"
  }
 },
 "nbformat": 4,
 "nbformat_minor": 2
}
