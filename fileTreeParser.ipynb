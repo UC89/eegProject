{
 "cells": [
  {
   "cell_type": "code",
   "execution_count": 109,
   "metadata": {
    "collapsed": true
   },
   "outputs": [],
   "source": [
    "from pymongo import MongoClient\n",
    "from pathlib import Path\n",
    "import os\n",
    "from pprint import pprint\n"
   ]
  },
  {
   "cell_type": "code",
   "execution_count": 110,
   "metadata": {
    "collapsed": true
   },
   "outputs": [],
   "source": [
    "client = MongoClient('mongodb://localhost:27017')\n",
    "testDb = client.testDb"
   ]
  },
  {
   "cell_type": "code",
   "execution_count": 111,
   "metadata": {
    "collapsed": true
   },
   "outputs": [],
   "source": [
    "patients = testDb.patients\n",
    "sessions = testDb.sessions\n",
    "reports = testDb.reports"
   ]
  },
  {
   "cell_type": "code",
   "execution_count": 112,
   "metadata": {
    "collapsed": true
   },
   "outputs": [],
   "source": [
    "def fileName(filePath):\n",
    "    return (os.path.splitext(os.path.split(filePath)[1]))[0]\n",
    "\n",
    "def fileExt(filePath):\n",
    "    return (os.path.splitext(os.path.split(filePath)[1]))[1]"
   ]
  },
  {
   "cell_type": "code",
   "execution_count": 113,
   "metadata": {},
   "outputs": [
    {
     "name": "stdout",
     "output_type": "stream",
     "text": [
      "['03_tcp_ar_a', '02_tcp_le', '.DS_Store', '01_tcp_ar']\n",
      "False\n",
      "False\n",
      "/03_tcp_ar_a\n",
      "v1.2.0/eval/01_tcp_ar/00001278/s002_2003_11_17/00001278_s002_t001.edf  :  67899648\n",
      "('v1.2.0/eval/01_tcp_ar/00001278/s002_2003_11_17/00001278_s002_t001', '.edf')\n",
      "('v1.2.0/eval/01_tcp_ar/00001278/s002_2003_11_17', '00001278_s002_t001.edf')\n",
      "('00001278_s002_t001', '.edf')\n",
      "00001278_s002_t001\n",
      ".edf\n"
     ]
    }
   ],
   "source": [
    "p1 = os.listdir(\"v1.2.0/eval\")\n",
    "print(p1)\n",
    "print(os.path.isdir(p1[0]))\n",
    "print(os.path.isfile(p1[1]))\n",
    "pathString = (\"/\"+str(p1[0]))\n",
    "print(pathString)\n",
    "patientDict = {}\n",
    "fileNames = []\n",
    "maxFileSize = 0 \n",
    "maxFileName = \"\"\n",
    "for root,dirs,files in os.walk(\"v1.2.0\"):\n",
    "    #print (\"root: \",root)\n",
    "    #print(\"\\tdirs: \",dirs)\n",
    "    #print(\"\\t\\t\",str(files))\n",
    "        \n",
    "    if len(files)>0:\n",
    "        for file in files:\n",
    "            fileNames.append(str(root)+\"/\"+str(file))\n",
    "            if os.path.getsize((str(root)+\"/\"+file)) > maxFileSize:\n",
    "                maxFileSize = os.path.getsize((str(root)+\"/\"+file))\n",
    "                maxFileName = (str(root)+\"/\"+file)\n",
    "            else:\n",
    "                continue\n",
    "            \n",
    "            \n",
    "        #print (\"\\t\\tFile: \"+files[3])\n",
    "        \n",
    "print (maxFileName,\" : \",maxFileSize)\n",
    "print (os.path.splitext(maxFileName))\n",
    "print (os.path.split(maxFileName))\n",
    "print (os.path.splitext(os.path.split(maxFileName)[1]))\n",
    "print (fileName(maxFileName))\n",
    "print (fileExt(maxFileName))"
   ]
  },
  {
   "cell_type": "code",
   "execution_count": 137,
   "metadata": {},
   "outputs": [
    {
     "name": "stdout",
     "output_type": "stream",
     "text": [
      "CurrentSession: s004_2009_06_2900005943\n",
      "CurrentSession: s003_2007_07_2400004087\n",
      "CurrentSession: s005_2011_01_0500005479\n",
      "CurrentSession: s006_2011_01_0600005479\n",
      "CurrentSession: s003_2007_10_2300002297\n",
      "CurrentSession: s004_2007_10_2300002297\n",
      "CurrentSession: s011_2011_02_1600006546\n",
      "CurrentSession: s010_2011_02_1500006546\n",
      "CurrentSession: s015_2011_03_1500006546\n",
      "CurrentSession: s016_2011_03_1500006546\n"
     ]
    },
    {
     "ename": "IndexError",
     "evalue": "list index out of range",
     "output_type": "error",
     "traceback": [
      "\u001b[0;31m---------------------------------------------------------------------------\u001b[0m",
      "\u001b[0;31mIndexError\u001b[0m                                Traceback (most recent call last)",
      "\u001b[0;32m<ipython-input-137-cb2ede1cf884>\u001b[0m in \u001b[0;36m<module>\u001b[0;34m()\u001b[0m\n\u001b[1;32m     24\u001b[0m         \u001b[0mpatientId\u001b[0m \u001b[0;34m=\u001b[0m \u001b[0msplitFile\u001b[0m\u001b[0;34m[\u001b[0m\u001b[0;36m3\u001b[0m\u001b[0;34m]\u001b[0m\u001b[0;34m\u001b[0m\u001b[0m\n\u001b[1;32m     25\u001b[0m         \u001b[0msessionId\u001b[0m \u001b[0;34m=\u001b[0m \u001b[0mstr\u001b[0m\u001b[0;34m(\u001b[0m\u001b[0msplitFile\u001b[0m\u001b[0;34m[\u001b[0m\u001b[0;36m4\u001b[0m\u001b[0;34m]\u001b[0m\u001b[0;34m)\u001b[0m\u001b[0;34m+\u001b[0m\u001b[0mstr\u001b[0m\u001b[0;34m(\u001b[0m\u001b[0mpatientId\u001b[0m\u001b[0;34m)\u001b[0m\u001b[0;34m\u001b[0m\u001b[0m\n\u001b[0;32m---> 26\u001b[0;31m         \u001b[0mcurrentFile\u001b[0m \u001b[0;34m=\u001b[0m \u001b[0msplitFile\u001b[0m\u001b[0;34m[\u001b[0m\u001b[0;36m5\u001b[0m\u001b[0;34m]\u001b[0m\u001b[0;34m\u001b[0m\u001b[0m\n\u001b[0m\u001b[1;32m     27\u001b[0m         \u001b[0mcurrentFileExt\u001b[0m \u001b[0;34m=\u001b[0m \u001b[0mstr\u001b[0m\u001b[0;34m(\u001b[0m\u001b[0mfileExt\u001b[0m\u001b[0;34m(\u001b[0m\u001b[0mcurrentFile\u001b[0m\u001b[0;34m)\u001b[0m\u001b[0;34m)\u001b[0m\u001b[0;34m\u001b[0m\u001b[0m\n\u001b[1;32m     28\u001b[0m         \u001b[0;32mif\u001b[0m \u001b[0mcurrentSession\u001b[0m \u001b[0;34m!=\u001b[0m \u001b[0msessionId\u001b[0m\u001b[0;34m:\u001b[0m\u001b[0;34m\u001b[0m\u001b[0m\n",
      "\u001b[0;31mIndexError\u001b[0m: list index out of range"
     ]
    }
   ],
   "source": [
    "#print(fileNames[0:30])\n",
    "testDb.patients.delete_many({})\n",
    "testDb.sessions.delete_many({})\n",
    "testDb.reports.delete_many({})\n",
    "\n",
    "'''for files in fileNames[30:50]:\n",
    "    print(files)\n",
    "    print (files.split(\"/\"))\n",
    "    print (\"File Ext: \"+fileExt(files))\n",
    "    print (\"File Name: \",fileName(files),\"\\n\")\n",
    "'''\n",
    "\n",
    "patientList = []\n",
    "patientSessions = []\n",
    "sessionList = []\n",
    "currentSession = 0\n",
    "sessionEntry = {}\n",
    "for files in fileNames:\n",
    "    splitFile = files.split(\"/\")\n",
    "    #print(splitFile)\n",
    "    if len(splitFile)<5:\n",
    "        pass\n",
    "    else:\n",
    "        patientId = splitFile[3]\n",
    "        sessionId = str(splitFile[4])+str(patientId)\n",
    "        currentFile = splitFile[5]\n",
    "        currentFileExt = str(fileExt(currentFile))\n",
    "        if currentSession != sessionId: \n",
    "            currentSession = sessionId\n",
    "            if bool(sessionEntry) == True:\n",
    "                #Insert session into patient session list\n",
    "                sessionEntry['edfList'] = edfList\n",
    "                print(\"CurrentSession: \"+currentSession)\n",
    "                sessions.insert_one(sessionEntry)\n",
    "                sessionEntry = {}\n",
    "                #print(sessionEntry)\n",
    "            else:\n",
    "                sessionEntry = {'sessionId':sessionId}\n",
    "                sessionEntry['patientId'] = patientId\n",
    "                lblList = []\n",
    "                edfList = []\n",
    "                tseList = []\n",
    "                tseBiList = []\n",
    "                lblBiList = []\n",
    "        else:\n",
    "            if currentFileExt == \".txt\":\n",
    "                sessionEntry['Report'] = currentFile\n",
    "                with open(str(files),'r') as reportFile:\n",
    "                    rText = reportFile.readlines()      \n",
    "                sessionEntry['ReportText'] = rText\n",
    "            elif currentFileExt  == \".edf\":\n",
    "                edfList.append(currentFile)\n",
    "            \n",
    "            if patientId in patientList:\n",
    "                continue\n",
    "            else:\n",
    "                patients.insert_one({'patientId':patientId})\n",
    "                patientList.append(patientId)\n",
    "\n",
    "            '''if sessionId in sessionList:\n",
    "                continue\n",
    "            else:\n",
    "                sessionList.append(sessionId)\n",
    "                if patientId in patientLi[=st:\n",
    "                    sessions.update_one({\"patientId\":patientId},{'$push':{\"sessionsId\":sessionId}})\n",
    "                else:\n",
    "                    sessions.insert_one({{'patientId':patientId},{'sessionId':[sessionId]}})\n",
    "            '''\n",
    "        currentSession = sessionId\n",
    "#print (patientList)\n",
    "print (len(patientList))"
   ]
  },
  {
   "cell_type": "code",
   "execution_count": 140,
   "metadata": {},
   "outputs": [
    {
     "name": "stdout",
     "output_type": "stream",
     "text": [
      "{'_id': ObjectId('5a839e3fe8dafe23a4e8fe8b'), 'sessionId': 's002_2009_06_2800005943', 'patientId': '00005943', 'edfList': ['00005943_s002_t001.edf', '00005943_s002_t000.edf', '00005943_s002_t002.edf', '00005943_s002_t003.edf']}\n",
      "{'_id': ObjectId('5a839e3fe8dafe23a4e8fe8c'), 'Report': '00005943_s004.txt', 'ReportText': ['\\n', 'CLINICAL HISTORY: 69 year old female with refractory status epilepticus following craniotomy for subdural hematoma.\\n', '\\n', 'MEDICATIONS: Keppra, Dilantin\\n', '\\n', 'INTRODUCTION: Continuous digital video EEG was performed at bedside using standard 10-20 system of electrode placement with 1 channel EKG. This recording begins just after the patient has been treated on 6/28 for status epilepticus.\\n', '\\n', 'DESCRIPTION OF THE RECORD: The background EEG demonstrates a very irritative pattern with repetitive sharp waves and fast activity. While the initial EEG demonstrated prominent epileptiform activity in the frontal and temporal regions, the later long term monitor record, demonstrates epileptiform activity in the occipital temporal region. The record is intermittently discontinuous. The patient is somnolent.\\n', 'Sustained bursts are not observed.\\n', '\\n', 'At 06:37 a.m., one epileptiform seizures occurred. This was maximum in the right posterior temporal region and are characterized by brief discharges definitive changes in clinical function. Seizure duration is 1 minute. By 11:18 a.m., electrode integrity is lost, and no additional seizures are noted.\\n', '\\n', 'HR: 90 bpm\\n', '\\n', 'IMPRESSION: Abnormal EEG due to:\\n', '1. Intermittently suppressed pattern.\\n', '2. Prominent epileptiform activity in the right hemisphere, now transitioning to the posterior temporal region.\\n', '3. Single right posterior temporal seizure at 6:37 a.m.\\n', '\\n', '\\n', '\\n'], 'edfList': ['00005943_s002_t001.edf', '00005943_s002_t000.edf', '00005943_s002_t002.edf', '00005943_s002_t003.edf', '00005943_s004_t001.edf', '00005943_s004_t000.edf', '00005943_s004_t002.edf', '00005943_s004_t003.edf']}\n",
      "{'_id': ObjectId('5a839e3fe8dafe23a4e8fe8e'), 'Report': '00004087_s003.txt', 'ReportText': ['CLINICAL HISTORY: \\tFifty-eight-year-old woman with hypertension, hyperlipidemia, elevated glucose, and refractory left temporal lobe seizures. No seizures are observed by the computer, the nurses or the patient during this 24 hours.\\n', 'MEDICATIONS: \\tCarbamazepine, Gabapentin, Dilantin\\n', 'INTRODUCTION: \\tContinuous video EEG monitoring is performed in the unit using standard 10/20 system of electrode placement with\\n', '1 channel of EKG. A program with seizure and spike detection is\\n', 'employed.\\n', 'DESCRIPTION OF THE RECORD: \\tMuch of the record includes a well\\xad organized background. Other portions of the record demonstrate intermittent, rhythmic slowing from the left temporal region with sharp waves identified in wakefulness and sleep. Much of the record includes a drowsy pattern with hypersynchronous background slowing and again sharp waves. While there are prominent portions of the record with epileptiform activity and focal slowing, other portions demonstrate a relatively well\\xad organized background.\\n', 'Long-Term Monitoring July 24, 2007 to July 25, 2007\\n', 'CLINICAL HISTORY: \\tDuring this section of the record, the\\n', 'patient had 2 well-defined seizures. Reviewing the record, there are probably 3 seizures with 1 complex partial seizure occurring after a subsequent seizure.\\n', 'Random wakefulness and sleep: In wakefulness, portions of the record include a well-organized background. Other sections demonstrate TIRDA and left temporal sharp waves. Much of the sleep record includes drowsiness. A rhythmic delta from the left temporal region is observed during sleep. In comparison to the previous section of the record, the patient seems to spend more time in deeper stages of sleep. The sleep record demonstrates focal temporal rhythmic theta and/or delta and sharp waves.\\n', \"Seizure #1 time 9:38:57. The patient has been sitting, talking on the phone. The background EEG is well-organized until the seizure occurs. There is an audio in place and it is possible to hear what appears to be a man's voice coming not the patient's voice as well as individuals in the hallway and the television.\\n\", 'The first ictal changes include the appearance of sharp waves and theta at 9:38:57. there is repetitive 4Hz activity in the left temporal region. Much of this is high amplitude. The activity can be reviewed with a decrease in the sensitivity and in fact decreasing the sensitivity to 20 even without filtering clearly demonstrates rhythmic repetitive sharp waves emanating at 09:39:06 followed by a rhythmic buildup. The activity demonstrates a crescendo pattern at 9:40. The patient is observed to have a temperamental EKG electrode but appears to have tachycardia and then loss of the EKG electrode. This is concerning in this older adult.\\n', 'Clinical manifestations of this seizure include what appears to be speech arrest by the patient. By 9:41:07, she has made a transition from some automatic behavior in her lower extremities to focal jerks on the right.\\n', 'At 9:41:27, it sounds like somebody in the background is aware of the seizure. By 9:41:37, at that time it is a late ictal pattern with slowing from both hemispheres. Delta is observed at\\n', '9:41:27 compatible with slowing of the seizure.\\n', 'The patient drops the phone at 09:41:47.\\n', 'The patient is in the room by herself for some time before a nurse enters. The EEG seems to be improving by 10:01. By 10:14, although there is some movement artifact, there is a question as to whether or not there could have been another seizure but the patient is interactive with the nurse at the time. The\\n', 'background EEG demonstrates some delta and some slowing overall.\\n', 'Seizure #2 time 16:04:26. The patient is in the room with 2 family members. In reviewing the data over time, it appears that the family members do not recognize the start of the seizure at\\n', '16:04:25. The patient is sitting up. She does not talk and she starts to push her tray to the side. Individuals are speaking in the room but nobody seems to notice that she is not speaking as there is a train of repetitive sharp activity from the left temporal region with a T1 maximum. Repetitive spikes are seen at\\n', '16:04:30. Clear-cut frequency evolution is observed. This is\\n', 'seen as the tray moves laterally at 16:04:39. The patient is\\n', 'using her right hand to move the tray. The x-ray tech comes in, and the patient slumps back at 16:05:10. As she does this, the epileptiform activity transitions and has more spread to the left frontocentral region and the left temporal region. The seizure ends just as everyone recognizes the seizure at\\n', '16:06:15. The patient is lying on her back. By the time the nurse and the EEG tech come in, she was postictal. There is some postictal slowing observed.\\n', 'Random wakefulness in sleep: Portions of the record demonstrate a well-organized background without epileptiform activity. Others demonstrate high amplitude spike and slow wave activity\\n', 'and rhythmic left temporal theta and delta. Features of stage II\\n', 'sleep include vertex waves, K-complexes and spindles.\\n', 'HR: \\t60 bpm\\n', 'IMPRESSION: \\tAfter day four, represents 48 hours or long-term video EEG.\\n', '\\n'], 'edfList': ['00005943_s002_t001.edf', '00005943_s002_t000.edf', '00005943_s002_t002.edf', '00005943_s002_t003.edf', '00005943_s004_t001.edf', '00005943_s004_t000.edf', '00005943_s004_t002.edf', '00005943_s004_t003.edf', '00004087_s003_t004.edf', '00004087_s003_t002.edf', '00004087_s003_t003.edf', '00004087_s003_t001.edf', '00004087_s003_t000.edf']}\n",
      "{'_id': ObjectId('5a839e3fe8dafe23a4e8fe90'), 'Report': '00005479_s005.txt', 'ReportText': ['CLINICAL HISTORY: 50 year old right handed woman status post left MCA aneurysm repaired in 2003 with annual exacerbation of complex partial seizures and low serum levels.\\n', 'MEDICATIONS: Depakote, Keppra,\\n', 'INTRODUCTION: Digital video EEG was performed at bedside using standard 10-20 system of electrode placement with 1 channel of EKG. This is a prolonged study for a patient who appeared to have had a subclinical seizure. She was confused during the EEG and somewhat lethargic.\\n', 'DESCRIPTION OF THE RECORD: The background EEG is markedly abnormal. The background from the right hemisphere is slow and disorganized. The left hemisphere includes a high amplitude breech rhythm with a left frontal sharp and slow complex with arrhythmic delta activity.\\n', 'At 9:15 the patient is relatively inattentive and the technologist wraps the head. At some point essentially continuous spiking is noted in the left frontal region.\\n', \"A seizure is identified at 9:19 characterized by evolution of epileptiform activity in the left frontal region, which is high amplitude with a generous field of spread. The seizure duration is from 19:13:30 to 19:19:59 suggesting that this is a relatively brief seizure. The technologist transitions from this to additional recording at 09:21. After the first event with impaired responsiveness, high amplitude left frontal spiking is noted with a breech rhythm in the abnormal background. The patient's mental status actually improves somewhat. She moves about, although she is confused. The activity remains quite slow in both hemispheres.\\n\", 'There was another brief build up again at 9:40. Artifacts are picked up at 9:35, but again there is prominent spiking in the background with very prominent epileptiform activity.\\n', 'A third electrographic seizure occurs at 9:58:57. The patient is relatively somnolent. Stimulation of the patient does not occur during this testing, but the seizure stops by itself and as it does the patient moves about.\\n', 'By the morning of the 7th, she is more consistently awake, out of bed with more rhythmic theta frequency in the background although the patterns in both hemispheres are slow.\\n', 'Throughout the record, there are intermittent bursts of rhythmic delta which do not have a clear clinical correlate.\\n', 'Seizure: The patient is in bed and she has just off the monitor. Her head is off the monitor. She appears to be sleepy. At  13:35 she was awake and the seizure is 12 minutes later. At 13:44 with the patient with someone at the bedside, in fact a physician examining her, the left frontal delta is prominent as are some sharp waves but she is interactive somewhat with the individual examining her. As the student leaves, the patient drifts over to the right.\\n', 'The electrographic seizure is at 13:47:13 and the patient is not really moving during the event but starts to reposition afterwards.\\n', 'This event is characterized by rhythmic, faster frequency activity in the left frontal and temporal region with also a beta accentuation.\\n', 'After the seizure was over, the patient looks about.\\n', 'HR: 78 bpm\\n', 'IMPRESSION: Abnormal continuous EEG monitoring due to:\\n', '1. Well-defined electrographic seizures noted but with only one seizure In the last 24 hours of recording.\\n', '2. Left frontotemporal focus.\\n', '3. Focal slowing from the left.\\n', '4. Generalized background slowing quite marked in the beginning of the record but better at the close of the record.\\n', 'CLINICAL CORRELATION: This EEG is diagnostic of a localization-related\\n', \"mechanism for epilepsy. Additional recording may be appropriate if this patient's mental status does not improve.\\n\", 'HR: 78 bpm\\n', \"IMPRESSION: This section of EEG, which includes a routine 20 minute EEG, followed by 50 minutes of recording, includes multiple, brief complex partial seizures. Although the patient's mental status is abnormal, the clinical correlate for this patient's seizures includes impaired responsiveness.\\n\", 'INTRODUCTION: Continuous digital video EEG is performed in the LTM unit using the standard 10-20 system of electrode placement. The patient has a pattern of improving mental status over the course of the day. She, unfortunately, eliminated her EEG electrodes during the overnight recording.\\n', 'DESCRIPTION OF THE RECORD: Despite the improved clinical appearance of the patient, there are electrographic seizures identified. These occur when the patient is in bed sleeping, without clinical correlate. They are associated with runs and bursts of activity.\\n', 'Time: 19:0838 - Approximately 1 minute in duration.\\n', 'Time: 19:5442 - Another seizure, maximum, in the left frontal and temporal region with a generous field of spread. Of note, the majority of the electrographic seizures are at approximately 8 p.m. and shortly thereafter the patient starts to remove the EEG electrodes. Of note, however, the patient did receive Versed in the morning and although there were frequent high amplitude left frontocentral sharp waves, the\\n', 'recurrence of seizures was primarily many hours afterwards.\\n', 'INTERVAL IMPRESSION/CLINICAL CORRELATION: Electrographic seizures for this individual were well-defined with characteristic frequency evolution despite the prominent interictal sharp waves from the left frontocentral region and frontotemporal region.\\n', \"INTRODUCTION: Continuous digital video EEG was performed at bedside using standard 10-20 system of electrode placement with 1 channel of EKG. At least one electrographic seizure is noted but no clinical seizures are observed. The patient's mental status gradually improves over the course of the record with the patient able to eat and get out of bed as well as participate in care.\\n\", 'DESCRIPTION OF THE RECORD: The initial sections in this epoch include a markedly slow pattern with slower delta and rhythmic theta frequency from both hemispheres and high amplitude sharp and slow or spike and slow wave complexes, many of which are frontotemporal but some of which are T1. The patient is certainly much sleepier on the 6th compared to the 7th.\\n', 'By the morning of the 7th, she is more consistently awake, out of bed with more rhythmic theta frequency in the background although the patterns in both hemispheres are slow.\\n', 'Throughout the record, there are intermittent bursts of rhythmic delta which do not have a clear clinical correlate.\\n', 'Seizure: The patient is in bed and she has just off the monitor. Her head is off the monitor. She appears to be sleepy. At  13:35 she was awake and the seizure is 12 minutes later. At 13:44 with the patient with someone at the bedside, in fact a physician examining her, the left frontal delta is prominent as are some sharp waves but she is interactive somewhat with the individual examining her. As the student leaves, the patient drifts over to the right.\\n', 'The electrographic seizure is at 13:47:13 and the patient is not really moving during the event but starts to reposition afterwards.\\n', 'This event is characterized by rhythmic, faster frequency activity in the left frontal and temporal region with also a beta accentuation.\\n', 'After the seizure was over, the patient looks about.\\n', 'HR: 78 bpm\\n', 'IMPRESSION: Abnormal continuous EEG monitoring due to:\\n', '1. Well-defined electrographic seizures noted but with only one seizure In the last 24 hours of recording.\\n', '2. Left frontotemporal focus.\\n', '3. Focal slowing from the left.\\n', '4. Generalized background slowing quite marked in the beginning of the record but better at the close of the record.\\n', \"CLINICAL CORRELATION: This EEG is diagnostic of a localization-related mechanism for epilepsy. Additional recording may be appropriate if this patient's mental status does not improve.\\n\", '\\n', '\\n', '\\n'], 'edfList': ['00005943_s002_t001.edf', '00005943_s002_t000.edf', '00005943_s002_t002.edf', '00005943_s002_t003.edf', '00005943_s004_t001.edf', '00005943_s004_t000.edf', '00005943_s004_t002.edf', '00005943_s004_t003.edf', '00004087_s003_t004.edf', '00004087_s003_t002.edf', '00004087_s003_t003.edf', '00004087_s003_t001.edf', '00004087_s003_t000.edf', '00005479_s005_t007.edf', '00005479_s005_t006.edf', '00005479_s005_t004.edf', '00005479_s005_t005.edf', '00005479_s005_t001.edf', '00005479_s005_t000.edf', '00005479_s005_t002.edf', '00005479_s005_t003.edf', '00005479_s005_t008.edf', '00005479_s005_t009.edf']}\n",
      "{'_id': ObjectId('5a839e3fe8dafe23a4e8fe91'), 'Report': '00005479_s006.txt', 'ReportText': ['CLINICAL HISTORY: 50 year old right handed woman status post left MCA aneurysm repaired in 2003 with annual exacerbation of complex partial seizures and low serum levels.\\n', 'MEDICATIONS: Depakote, Keppra,\\n', 'INTRODUCTION: Digital video EEG was performed at bedside using standard 10-20 system of electrode placement with 1 channel of EKG. This is a prolonged study for a patient who appeared to have had a subclinical seizure. She was confused during the EEG and somewhat lethargic.\\n', 'DESCRIPTION OF THE RECORD: The background EEG is markedly abnormal. The background from the right hemisphere is slow and disorganized. The left hemisphere includes a high amplitude breech rhythm with a left frontal sharp and slow complex with arrhythmic delta activity.\\n', 'At 9:15 the patient is relatively inattentive and the technologist wraps the head. At some point essentially continuous spiking is noted in the left frontal region.\\n', \"A seizure is identified at 9:19 characterized by evolution of epileptiform activity in the left frontal region, which is high amplitude with a generous field of spread. The seizure duration is from 19:13:30 to 19:19:59 suggesting that this is a relatively brief seizure. The technologist transitions from this to additional recording at 09:21. After the first event with impaired responsiveness, high amplitude left frontal spiking is noted with a breech rhythm in the abnormal background. The patient's mental status actually improves somewhat. She moves about, although she is confused. The activity remains quite slow in both hemispheres.\\n\", 'There was another brief build up again at 9:40. Artifacts are picked up at 9:35, but again there is prominent spiking in the background with very prominent epileptiform activity.\\n', 'A third electrographic seizure occurs at 9:58:57. The patient is relatively somnolent. Stimulation of the patient does not occur during this testing, but the seizure stops by itself and as it does the patient moves about.\\n', 'By the morning of the 7th, she is more consistently awake, out of bed with more rhythmic theta frequency in the background although the patterns in both hemispheres are slow.\\n', 'Throughout the record, there are intermittent bursts of rhythmic delta which do not have a clear clinical correlate.\\n', 'Seizure: The patient is in bed and she has just off the monitor. Her head is off the monitor. She appears to be sleepy. At  13:35 she was awake and the seizure is 12 minutes later. At 13:44 with the patient with someone at the bedside, in fact a physician examining her, the left frontal delta is prominent as are some sharp waves but she is interactive somewhat with the individual examining her. As the student leaves, the patient drifts over to the right.\\n', 'The electrographic seizure is at 13:47:13 and the patient is not really moving during the event but starts to reposition afterwards.\\n', 'This event is characterized by rhythmic, faster frequency activity in the left frontal and temporal region with also a beta accentuation.\\n', 'After the seizure was over, the patient looks about.\\n', 'HR: 78 bpm\\n', 'IMPRESSION: Abnormal continuous EEG monitoring due to:\\n', '1. Well-defined electrographic seizures noted but with only one seizure In the last 24 hours of recording.\\n', '2. Left frontotemporal focus.\\n', '3. Focal slowing from the left.\\n', '4. Generalized background slowing quite marked in the beginning of the record but better at the close of the record.\\n', 'CLINICAL CORRELATION: This EEG is diagnostic of a localization-related\\n', \"mechanism for epilepsy. Additional recording may be appropriate if this patient's mental status does not improve.\\n\", 'HR: 78 bpm\\n', \"IMPRESSION: This section of EEG, which includes a routine 20 minute EEG, followed by 50 minutes of recording, includes multiple, brief complex partial seizures. Although the patient's mental status is abnormal, the clinical correlate for this patient's seizures includes impaired responsiveness.\\n\", 'INTRODUCTION: Continuous digital video EEG is performed in the LTM unit using the standard 10-20 system of electrode placement. The patient has a pattern of improving mental status over the course of the day. She, unfortunately, eliminated her EEG electrodes during the overnight recording.\\n', 'DESCRIPTION OF THE RECORD: Despite the improved clinical appearance of the patient, there are electrographic seizures identified. These occur when the patient is in bed sleeping, without clinical correlate. They are associated with runs and bursts of activity.\\n', 'Time: 19:0838 - Approximately 1 minute in duration.\\n', 'Time: 19:5442 - Another seizure, maximum, in the left frontal and temporal region with a generous field of spread. Of note, the majority of the electrographic seizures are at approximately 8 p.m. and shortly thereafter the patient starts to remove the EEG electrodes. Of note, however, the patient did receive Versed in the morning and although there were frequent high amplitude left frontocentral sharp waves, the\\n', 'recurrence of seizures was primarily many hours afterwards.\\n', 'INTERVAL IMPRESSION/CLINICAL CORRELATION: Electrographic seizures for this individual were well-defined with characteristic frequency evolution despite the prominent interictal sharp waves from the left frontocentral region and frontotemporal region.\\n', \"INTRODUCTION: Continuous digital video EEG was performed at bedside using standard 10-20 system of electrode placement with 1 channel of EKG. At least one electrographic seizure is noted but no clinical seizures are observed. The patient's mental status gradually improves over the course of the record with the patient able to eat and get out of bed as well as participate in care.\\n\", 'DESCRIPTION OF THE RECORD: The initial sections in this epoch include a markedly slow pattern with slower delta and rhythmic theta frequency from both hemispheres and high amplitude sharp and slow or spike and slow wave complexes, many of which are frontotemporal but some of which are T1. The patient is certainly much sleepier on the 6th compared to the 7th.\\n', 'By the morning of the 7th, she is more consistently awake, out of bed with more rhythmic theta frequency in the background although the patterns in both hemispheres are slow.\\n', 'Throughout the record, there are intermittent bursts of rhythmic delta which do not have a clear clinical correlate.\\n', 'Seizure: The patient is in bed and she has just off the monitor. Her head is off the monitor. She appears to be sleepy. At  13:35 she was awake and the seizure is 12 minutes later. At 13:44 with the patient with someone at the bedside, in fact a physician examining her, the left frontal delta is prominent as are some sharp waves but she is interactive somewhat with the individual examining her. As the student leaves, the patient drifts over to the right.\\n', 'The electrographic seizure is at 13:47:13 and the patient is not really moving during the event but starts to reposition afterwards.\\n', 'This event is characterized by rhythmic, faster frequency activity in the left frontal and temporal region with also a beta accentuation.\\n', 'After the seizure was over, the patient looks about.\\n', 'HR: 78 bpm\\n', 'IMPRESSION: Abnormal continuous EEG monitoring due to:\\n', '1. Well-defined electrographic seizures noted but with only one seizure In the last 24 hours of recording.\\n', '2. Left frontotemporal focus.\\n', '3. Focal slowing from the left.\\n', '4. Generalized background slowing quite marked in the beginning of the record but better at the close of the record.\\n', \"CLINICAL CORRELATION: This EEG is diagnostic of a localization-related mechanism for epilepsy. Additional recording may be appropriate if this patient's mental status does not improve.\\n\", '\\n', '\\n', '\\n'], 'edfList': ['00005943_s002_t001.edf', '00005943_s002_t000.edf', '00005943_s002_t002.edf', '00005943_s002_t003.edf', '00005943_s004_t001.edf', '00005943_s004_t000.edf', '00005943_s004_t002.edf', '00005943_s004_t003.edf', '00004087_s003_t004.edf', '00004087_s003_t002.edf', '00004087_s003_t003.edf', '00004087_s003_t001.edf', '00004087_s003_t000.edf', '00005479_s005_t007.edf', '00005479_s005_t006.edf', '00005479_s005_t004.edf', '00005479_s005_t005.edf', '00005479_s005_t001.edf', '00005479_s005_t000.edf', '00005479_s005_t002.edf', '00005479_s005_t003.edf', '00005479_s005_t008.edf', '00005479_s005_t009.edf', '00005479_s006_t008.edf', '00005479_s006_t009.edf', '00005479_s006_t002.edf', '00005479_s006_t003.edf', '00005479_s006_t001.edf', '00005479_s006_t000.edf', '00005479_s006_t010.edf', '00005479_s006_t004.edf', '00005479_s006_t005.edf', '00005479_s006_t011.edf', '00005479_s006_t007.edf', '00005479_s006_t006.edf']}\n",
      "{'_id': ObjectId('5a839e3fe8dafe23a4e8fe93'), 'Report': '00002297_s003.txt', 'ReportText': ['CLINICAL HISTORY:   66-year-old woman admitted on the 21st with complex partial status epilepticus and past history of alcohol abuse and epilepsy.\\n', 'MEDICATIONS: Topiramate,  Ativan, Depakote, Levetiracetam\\n', 'INTRODUCTION: Digital video EEG is performed in the ICU using continuous video\\n', 'EEG monitoring.  No clinical seizures are reported in this session of the record.\\n', 'IMPRESSION:   Limited pieces of this data were available to review due to technical considerations.  The data available did not identify epileptiform activity, but the entire study was unable to be opened.\\n', 'LONG-TERM MONITORING- LTM- 07-100\\n', 'INTRODUCTION: Continuous video EEG monitor is performed initially in the long term monitoring unit at bedside using standard 10-20 system of electrode placement with one channel of EKG.\\n', 'DESCRIPTION OF THE RECORD:   In the initial portions of the record, relatively frequent seizures are observed some of which occur one briefly after another.  More than 1 ictal pattern is observed but most of the seizures will localize to the right parietal region.  Some began with bursts of fast activity.  Others began with more discrete right parietal spikes and others began with a high amplitude spike in the right hemisphere and then attenuation followed by repetitive activity from the right hemisphere  maximum in the right parotid occipital region.  Examples of these seizures can be seen at 1900 hours.   Over the course of the evening, the patient has a very long period without significant seizures.  Seizures recur in the morning of the 24th beginning at 8:45.  The patient is intubated and the EEG following intubation is slightly discontinuous.  Seizures recur on the afternoon of the 24th but are not sustained. The EKG N/A and not done\\n', 'with this so we will not do the conclusion.\\n', 'INTRODUCTION: Continuous video EEG monitoring was performed on the nursing unit using standard 10-20 system of electrode placement with 1 channel of EKG.\\n', 'Continuous seizure and spike detection software was employed. The clinical team, patient, and the software all identified multiple nearly-continuous seizures in wakefulness.\\n', 'DESCRIPTION  OF THE RECORD:  Typical seizures are relatively brief in duration. They can begin with either a burst of fast activity identified from the right hemisphere or rhythmic 4 HZ activity from the right parietal occipital region. This is followed by rhythmic activity. The rhythmic activity is most prominent from the right hemisphere, but there is muscle picked up on the left. This lasts approximately 20 seconds duration before periodic high amplitude raggedy sharp activity is identified in the right hemisphere.\\n', 'Some of this is very high amplitude, and much of it demonstrates  a significant field of spread throughout the right hemisphere including right central and occipital parietal. The typical seizures end with periodic slowing. Some seizures begin with a burst of fast activity observed bilaterally. Most seizures are under a minute in duration. Particularly in initial portions of the record most seizures are associated with some left motor activity, and the vast majority of seizures are in the category of 30-40 seconds duration.\\n', 'After midnight on the 22nd/23rd the patient reached a stage 2 sleep with spindles and vertex waves. In sleep seizures appear to abate.\\n', \"Seizure description:  There is variability in terms of this patient's ictal behavior. When the seizures start at the beginning of the long-term monitoring typical features of the seizures can include left facial twitching, left arm distention, left arm tonic-clonic activity, or left leg extension. The patient is tested in the initial portion of the seizures, and she is responsive during the seizures, somewhat aware of them, and describes them as uncomfortable. As time goes on she continues to demonstrate EEG evidence of ongoing ictal activity, but motor activity is a bit less prominent. Feature that remain throughout include eye opening and staring. By the close of this 24-hour epoch she seems to have less in terms of well defined motor and a little bit more in impairment of awareness.\\n\", 'HR: \\t72 bpm\\n', 'IMPRESSION:   This 24-hour EEG recording demonstrates  complex partial status epilepticus which abates only when the patient is sleeping. Of note, the activity from the left hemisphere initially demonstrates  little in the way of slowing, and after exposure to these many antiepileptic medications  there is a bit more slowing in the section of the record which concludes on the morning of the 23rd.\\n', '\\n', '\\n', '\\n', '\\n'], 'edfList': ['00005943_s002_t001.edf', '00005943_s002_t000.edf', '00005943_s002_t002.edf', '00005943_s002_t003.edf', '00005943_s004_t001.edf', '00005943_s004_t000.edf', '00005943_s004_t002.edf', '00005943_s004_t003.edf', '00004087_s003_t004.edf', '00004087_s003_t002.edf', '00004087_s003_t003.edf', '00004087_s003_t001.edf', '00004087_s003_t000.edf', '00005479_s005_t007.edf', '00005479_s005_t006.edf', '00005479_s005_t004.edf', '00005479_s005_t005.edf', '00005479_s005_t001.edf', '00005479_s005_t000.edf', '00005479_s005_t002.edf', '00005479_s005_t003.edf', '00005479_s005_t008.edf', '00005479_s005_t009.edf', '00005479_s006_t008.edf', '00005479_s006_t009.edf', '00005479_s006_t002.edf', '00005479_s006_t003.edf', '00005479_s006_t001.edf', '00005479_s006_t000.edf', '00005479_s006_t010.edf', '00005479_s006_t004.edf', '00005479_s006_t005.edf', '00005479_s006_t011.edf', '00005479_s006_t007.edf', '00005479_s006_t006.edf', '00002297_s003_t001.edf', '00002297_s003_t000.edf', '00002297_s003_t002.edf', '00002297_s003_t003.edf']}\n",
      "{'_id': ObjectId('5a839e3fe8dafe23a4e8fe94'), 'Report': '00002297_s004.txt', 'ReportText': ['CLINICAL HISTORY:   66-year-old woman admitted on the 21st with complex partial status epilepticus and past history of alcohol abuse and epilepsy.\\n', 'MEDICATIONS: Topiramate, Ativan, Depakote, Levetiracetam\\n', 'INTRODUCTION:  Continuous video EEG monitoring was performed on the nursing unit using standard 10-20 system of electrode placement  with 1 channel of EKG.\\n', 'Continuous seizure and spike detection software was employed. The clinical team,\\n', 'patient, and the software all identified multiple nearly-continuous  seizures in wakefulness.\\n', 'DESCRIPTION OF THE RECORD:  Typical seizures are relatively brief in duration. They can begin with either a burst of fast activity identified from the right hemisphere or rhythmic 4 HZ activity from the right parietal occipital region. This is followed by rhythmic activity. The rhythmic activity is most prominent from the right hemisphere, but there is muscle picked up on the left. This lasts approximately 20 seconds duration before periodic high amplitude raggedy sharp activity is identified in the right hemisphere.\\n', 'Some of this is very high amplitude, and much of it demonstrates a significant field of spread throughout the right hemisphere including right central and occipital parietal. The typical seizures end with periodic slowing. Some seizures begin with a burst of fast activity observed bilaterally. Most seizures are under a minute in duration. Particularly in initial portions of the record most seizures are associated with some left motor activity, and the vast majority of seizures are in the category of 30-40 seconds duration.\\n', 'After midnight on the 22nd/23rd the patient reached a stage 2 sleep with spindles and vertex waves. In sleep seizures appear to abate.\\n', \"Seizure description:  There is variability in terms of this patient's ictal behavior. When the seizures start at the beginning of the long-term monitoring typical features of the seizures can include left facial twitching, left arm distention, left arm tonic-clonic activity, or left leg extension. The patient is tested in the initial portion of the seizures, and she is responsive during the seizures, somewhat aware of them, and describes them as uncomfortable. As time goes on she continues to demonstrate EEG evidence of ongoing ictal activity, but motor activity is a bit less prominent. Feature that remain\\n\", 'throughout include eye opening and staring. By the close of this 24-hour epoch she\\n', 'seems to have less in terms of well defined motor and a little bit more in impairment of awareness.\\n', 'HR: \\t72 bpm\\n', 'IMPRESSION: This 24-hour EEG recording demonstrates complex partial status epilepticus which abates only when the patient is sleeping. Of note, the activity from the left hemisphere initially demonstrates little in the way of slowing, and after exposure to these many antiepileptic medications there is a bit more slowing in the section of the record which concludes on the morning of the 23rd.\\n', '\\n', '\\n', '\\n', '\\n'], 'edfList': ['00005943_s002_t001.edf', '00005943_s002_t000.edf', '00005943_s002_t002.edf', '00005943_s002_t003.edf', '00005943_s004_t001.edf', '00005943_s004_t000.edf', '00005943_s004_t002.edf', '00005943_s004_t003.edf', '00004087_s003_t004.edf', '00004087_s003_t002.edf', '00004087_s003_t003.edf', '00004087_s003_t001.edf', '00004087_s003_t000.edf', '00005479_s005_t007.edf', '00005479_s005_t006.edf', '00005479_s005_t004.edf', '00005479_s005_t005.edf', '00005479_s005_t001.edf', '00005479_s005_t000.edf', '00005479_s005_t002.edf', '00005479_s005_t003.edf', '00005479_s005_t008.edf', '00005479_s005_t009.edf', '00005479_s006_t008.edf', '00005479_s006_t009.edf', '00005479_s006_t002.edf', '00005479_s006_t003.edf', '00005479_s006_t001.edf', '00005479_s006_t000.edf', '00005479_s006_t010.edf', '00005479_s006_t004.edf', '00005479_s006_t005.edf', '00005479_s006_t011.edf', '00005479_s006_t007.edf', '00005479_s006_t006.edf', '00002297_s003_t001.edf', '00002297_s003_t000.edf', '00002297_s003_t002.edf', '00002297_s003_t003.edf', '00002297_s004_t001.edf', '00002297_s004_t000.edf']}\n",
      "{'_id': ObjectId('5a839e3fe8dafe23a4e8fe96'), 'Report': '00006546_s011.txt', 'ReportText': ['CLINICAL HISTORY: 40 year old right handed male with encephalitis and recurrent seizures.\\n', 'MEDICATIONS: Lacosamide, dilantin, Ativan, Klonopin\\n', 'INTRODUCTION: Continuous digital video EEG monitoring was performed at bedside using standard 10-20 system of electrode placement with 1 channel of EKG. As this section of the records begins, the patient reports \"he is feeling great\" as if he is not having more seizures. Then subsequently he has 2 events that he describes as auras, which are seizures with impairment of awareness. He does have occasional myoclonic jerks.\\n', 'DESCRIPTION OF THE RECORD: This section of the 24-hour period includes more of the rhythmic repetitive slowing than noted at other times. Isolated high amplitude right hemispheric spike and wave activity is observed. Push button times include 5:20 which includes actually a seizure. Although the patient describes this as an aura, it is really a focal motor seizure with loss of axial tone and stiffening of the right leg. The patient seems to know that it is coming at 10:20:40 before he pushes the button and he seems to be a little bit confused. Unfortunately, he is moving about and there is muscle and movement artifact until he has loss of axial tone and stiffening on the right at 10:20:56. Characteristic tonic clonic activity obscures the EEG and although he is most jerking on the right, it seems to obscure the entire EEG. By 10:23:00 it seems to be over. The patient is back in bed and responsive to the nurses, helping them with the blood\\n', 'pressure cuff by 10:24. Seizure time 13:30. The patient is sitting in a chair. He puts his left hand to his nose at 13:29, but does not seem to be uncomfortable. For this seizure, the dad seems to know what is going on and pushes the button at 13:30, even before there is much that seems to be going on with the patient. The patient seems to be fine at 13:30:05, moving about. Additional sharp waves are noted at 13:34.\\n', 'This EEG monitor ends at 15:35 and at that time there is prominent sharp waves and rhythmic slowing.\\n', 'IMPRESSION: This EEG monitoring was remarkable for:\\n', '1. High amplitude sharp waves and spikes in the left hemisphere, particularly parietal occipital region.\\n', '2. Some things which the patient describes as \"auras\" which are in the borderline between simple and complex partial seizures, which are associated with more rhythmic mixed theta delta.\\n', '3. A third seizure type, which seemed to be a focal motor seizure.\\n', '4. That same rhythmic discharge which was not always associated with change in awareness.\\n', 'CLINICAL CORRELATION: These findings are similar to previous EEG monitoring and support a localization related mechanism for epilepsy.\\n', '\\n', '\\n', '\\n'], 'edfList': ['00005943_s002_t001.edf', '00005943_s002_t000.edf', '00005943_s002_t002.edf', '00005943_s002_t003.edf', '00005943_s004_t001.edf', '00005943_s004_t000.edf', '00005943_s004_t002.edf', '00005943_s004_t003.edf', '00004087_s003_t004.edf', '00004087_s003_t002.edf', '00004087_s003_t003.edf', '00004087_s003_t001.edf', '00004087_s003_t000.edf', '00005479_s005_t007.edf', '00005479_s005_t006.edf', '00005479_s005_t004.edf', '00005479_s005_t005.edf', '00005479_s005_t001.edf', '00005479_s005_t000.edf', '00005479_s005_t002.edf', '00005479_s005_t003.edf', '00005479_s005_t008.edf', '00005479_s005_t009.edf', '00005479_s006_t008.edf', '00005479_s006_t009.edf', '00005479_s006_t002.edf', '00005479_s006_t003.edf', '00005479_s006_t001.edf', '00005479_s006_t000.edf', '00005479_s006_t010.edf', '00005479_s006_t004.edf', '00005479_s006_t005.edf', '00005479_s006_t011.edf', '00005479_s006_t007.edf', '00005479_s006_t006.edf', '00002297_s003_t001.edf', '00002297_s003_t000.edf', '00002297_s003_t002.edf', '00002297_s003_t003.edf', '00002297_s004_t001.edf', '00002297_s004_t000.edf', '00006546_s011_t002.edf', '00006546_s011_t003.edf', '00006546_s011_t001.edf', '00006546_s011_t000.edf', '00006546_s011_t004.edf', '00006546_s011_t005.edf', '00006546_s011_t007.edf', '00006546_s011_t006.edf']}\n",
      "{'_id': ObjectId('5a839e3fe8dafe23a4e8fe97'), 'Report': '00006546_s010.txt', 'ReportText': ['CLINICAL HISTORY: 40 year old right handed male with encephalitis and recurrent seizures.\\n', 'MEDICATIONS: Lacosamide, dilantin, Ativan, Klonopin\\n', 'INTRODUCTION: Continuous digital video EEG monitoring was performed at bedside using standard 10-20 system of electrode placement with 1 channel of EKG. As this section of the records begins, the patient reports \"he is feeling great\" as if he is not having more seizures. Then subsequently he has 2 events that he describes as auras, which are seizures with impairment of awareness. He does have occasional myoclonic jerks.\\n', 'DESCRIPTION OF THE RECORD: This section of the 24-hour period includes more of the rhythmic repetitive slowing than noted at other times. Isolated high amplitude right hemispheric spike and wave activity is observed. Push button times include 5:20 which includes actually a seizure. Although the patient describes this as an aura, it is really a focal motor seizure with loss of axial tone and stiffening of the right leg. The patient seems to know that it is coming at 10:20:40 before he pushes the button and he seems to be a little bit confused. Unfortunately, he is moving about and there is muscle and movement artifact until he has loss of axial tone and stiffening on the right at 10:20:56. Characteristic tonic clonic activity obscures the EEG and although he is most jerking on the right, it seems to obscure the entire EEG. By 10:23:00 it seems to be over. The patient is back in bed and responsive to the nurses, helping them with the blood\\n', 'pressure cuff by 10:24. Seizure time 13:30. The patient is sitting in a chair. He puts his left hand to his nose at 13:29, but does not seem to be uncomfortable. For this seizure, the dad seems to know what is going on and pushes the button at 13:30, even before there is much that seems to be going on with the patient. The patient seems to be fine at 13:30:05, moving about. Additional sharp waves are noted at 13:34.\\n', 'This EEG monitor ends at 15:35 and at that time there is prominent sharp waves and rhythmic slowing.\\n', 'IMPRESSION: This EEG monitoring was remarkable for:\\n', '1. High amplitude sharp waves and spikes in the left hemisphere, particularly parietal occipital region.\\n', '2. Some things which the patient describes as \"auras\" which are in the borderline between simple and complex partial seizures, which are associated with more rhythmic mixed theta delta.\\n', '3. A third seizure type, which seemed to be a focal motor seizure.\\n', '4. That same rhythmic discharge which was not always associated with change in awareness.\\n', 'CLINICAL CORRELATION: These findings are similar to previous EEG monitoring and support a localization related mechanism for epilepsy.\\n', '\\n', '\\n', '\\n'], 'edfList': ['00005943_s002_t001.edf', '00005943_s002_t000.edf', '00005943_s002_t002.edf', '00005943_s002_t003.edf', '00005943_s004_t001.edf', '00005943_s004_t000.edf', '00005943_s004_t002.edf', '00005943_s004_t003.edf', '00004087_s003_t004.edf', '00004087_s003_t002.edf', '00004087_s003_t003.edf', '00004087_s003_t001.edf', '00004087_s003_t000.edf', '00005479_s005_t007.edf', '00005479_s005_t006.edf', '00005479_s005_t004.edf', '00005479_s005_t005.edf', '00005479_s005_t001.edf', '00005479_s005_t000.edf', '00005479_s005_t002.edf', '00005479_s005_t003.edf', '00005479_s005_t008.edf', '00005479_s005_t009.edf', '00005479_s006_t008.edf', '00005479_s006_t009.edf', '00005479_s006_t002.edf', '00005479_s006_t003.edf', '00005479_s006_t001.edf', '00005479_s006_t000.edf', '00005479_s006_t010.edf', '00005479_s006_t004.edf', '00005479_s006_t005.edf', '00005479_s006_t011.edf', '00005479_s006_t007.edf', '00005479_s006_t006.edf', '00002297_s003_t001.edf', '00002297_s003_t000.edf', '00002297_s003_t002.edf', '00002297_s003_t003.edf', '00002297_s004_t001.edf', '00002297_s004_t000.edf', '00006546_s011_t002.edf', '00006546_s011_t003.edf', '00006546_s011_t001.edf', '00006546_s011_t000.edf', '00006546_s011_t004.edf', '00006546_s011_t005.edf', '00006546_s011_t007.edf', '00006546_s011_t006.edf', '00006546_s010_t002.edf', '00006546_s010_t003.edf', '00006546_s010_t001.edf', '00006546_s010_t000.edf', '00006546_s010_t004.edf', '00006546_s010_t005.edf']}\n",
      "{'_id': ObjectId('5a839e3fe8dafe23a4e8fe98'), 'sessionId': 's013_2011_02_1800006546', 'patientId': '00006546', 'Report': '00006546_s013.txt', 'ReportText': ['CLINICAL HISTORY: 40 year old right handed male with encephalitis and recurrent seizures.\\n', 'MEDICATIONS: Lacosamide, dilantin, Ativan, Klonopin\\n', 'INTRODUCTION: Continuous digital video EEG monitoring was performed at bedside using standard 10-20 system of electrode placement with 1 channel of EKG. As this section of the records begins, the patient reports \"he is feeling great\" as if he is not having more seizures. Then subsequently he has 2 events that he describes as auras, which are seizures with impairment of awareness. He does have occasional myoclonic jerks.\\n', 'DESCRIPTION OF THE RECORD: This section of the 24-hour period includes more of the rhythmic repetitive slowing than noted at other times. Isolated high amplitude right hemispheric spike and wave activity is observed. Push button times include 5:20 which includes actually a seizure. Although the patient describes this as an aura, it is really a focal motor seizure with loss of axial tone and stiffening of the right leg. The patient seems to know that it is coming at 10:20:40 before he pushes the button and he seems to be a little bit confused. Unfortunately, he is moving about and there is muscle and movement artifact until he has loss of axial tone and stiffening on the right at 10:20:56. Characteristic tonic clonic activity obscures the EEG and although he is most jerking on the right, it seems to obscure the entire EEG. By 10:23:00 it seems to be over. The patient is back in bed and responsive to the nurses, helping them with the blood\\n', 'pressure cuff by 10:24. Seizure time 13:30. The patient is sitting in a chair. He puts his left hand to his nose at 13:29, but does not seem to be uncomfortable. For this seizure, the dad seems to know what is going on and pushes the button at 13:30, even before there is much that seems to be going on with the patient. The patient seems to be fine at 13:30:05, moving about. Additional sharp waves are noted at 13:34.\\n', 'This EEG monitor ends at 15:35 and at that time there is prominent sharp waves and rhythmic slowing.\\n', 'IMPRESSION: This EEG monitoring was remarkable for:\\n', '1. High amplitude sharp waves and spikes in the left hemisphere, particularly parietal occipital region.\\n', '2. Some things which the patient describes as \"auras\" which are in the borderline between simple and complex partial seizures, which are associated with more rhythmic mixed theta delta.\\n', '3. A third seizure type, which seemed to be a focal motor seizure.\\n', '4. That same rhythmic discharge which was not always associated with change in awareness.\\n', 'CLINICAL CORRELATION: These findings are similar to previous EEG monitoring and support a localization related mechanism for epilepsy.\\n', '\\n', '\\n', '\\n'], 'edfList': ['00006546_s013_t000.edf', '00006546_s013_t002.edf', '00006546_s013_t003.edf']}\n"
     ]
    },
    {
     "data": {
      "text/plain": [
       "'\\nfor patient in patientDbPrint:\\n    print(patient)\\n'"
      ]
     },
     "execution_count": 140,
     "metadata": {},
     "output_type": "execute_result"
    }
   ],
   "source": [
    "patientDbPrint = patients.find({})\n",
    "sessionsDb = sessions.find({})\n",
    "for session in sessionsDb:\n",
    "    print(session)\n",
    "'''\n",
    "for patient in patientDbPrint:\n",
    "    print(patient)\n",
    "'''"
   ]
  },
  {
   "cell_type": "code",
   "execution_count": null,
   "metadata": {
    "collapsed": true
   },
   "outputs": [],
   "source": []
  },
  {
   "cell_type": "code",
   "execution_count": null,
   "metadata": {
    "collapsed": true
   },
   "outputs": [],
   "source": []
  }
 ],
 "metadata": {
  "kernelspec": {
   "display_name": "Python 3",
   "language": "python",
   "name": "python3"
  },
  "language_info": {
   "codemirror_mode": {
    "name": "ipython",
    "version": 3
   },
   "file_extension": ".py",
   "mimetype": "text/x-python",
   "name": "python",
   "nbconvert_exporter": "python",
   "pygments_lexer": "ipython3",
   "version": "3.6.3"
  }
 },
 "nbformat": 4,
 "nbformat_minor": 2
}
